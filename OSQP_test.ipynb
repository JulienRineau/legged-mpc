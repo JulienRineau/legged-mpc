{
  "cells": [
    {
      "cell_type": "code",
      "execution_count": 6,
      "metadata": {
        "id": "7_kE8YM5-byD"
      },
      "outputs": [],
      "source": [
        "import osqp\n",
        "import numpy as np\n",
        "import scipy as sp\n",
        "from scipy import sparse\n",
        "import utils\n",
        "from params import *"
      ]
    },
    {
      "cell_type": "code",
      "execution_count": 7,
      "metadata": {
        "id": "X-CClRZAaoe8"
      },
      "outputs": [],
      "source": [
        "def calculate_Rz(euler):\n",
        "    \"\"\"_summary_\n",
        "\n",
        "    Args:\n",
        "        euler (_type_): _description_\n",
        "    \"\"\"\n",
        "    cos_yaw = np.cos(euler[2])\n",
        "    sin_yaw = np.sin(euler[2])\n",
        "    cos_pitch = np.cos(euler[1])\n",
        "    tan_pitch = np.tan(euler[1])\n",
        "            \n",
        "    Rz = np.array([\n",
        "        [cos_yaw / cos_pitch, sin_yaw / cos_pitch, 0],\n",
        "        [-sin_yaw, cos_yaw, 0],\n",
        "        [cos_yaw * tan_pitch, sin_yaw * tan_pitch, 1]\n",
        "    ]) #Transpose of Rz\n",
        "    return Rz\n",
        "    \n",
        "def calculate_A_mat(Rz):\n",
        "    \"\"\"_summary_\n",
        "\n",
        "    Args:\n",
        "        Rz (_type_): _description_\n",
        "\n",
        "    Returns:\n",
        "        _type_: _description_\n",
        "    \"\"\"\n",
        "    O3 = np.zeros((3,3))\n",
        "    I3 = np.eye(3)\n",
        "    \n",
        "    A_mat = np.block([\n",
        "        [O3,O3,Rz,O3],\n",
        "        [O3,O3,O3,I3],\n",
        "        [O3,O3,O3,O3],\n",
        "        [O3,O3,O3,O3]\n",
        "    ])\n",
        "    return A_mat\n",
        "    \n",
        "def calculate_B_mat(robot_mass, trunk_inertia, Rz,leg_pose):\n",
        "    \"\"\"_summary_\n",
        "\n",
        "    Args:\n",
        "        robot_mass (_type_): _description_\n",
        "        trunk_inertia (_type_): _description_\n",
        "        Rz (_type_): _description_\n",
        "        leg_pose (_type_): _description_\n",
        "\n",
        "    Returns:\n",
        "        _type_: _description_\n",
        "    \"\"\"\n",
        "    I = Rz.T@trunk_inertia@Rz\n",
        "    row = []\n",
        "    for i in range(4): #for each leg\n",
        "        O3 = np.zeros((3,3))\n",
        "        I3 = np.eye(3)\n",
        "        row.append(np.array([\n",
        "            [O3],\n",
        "            [O3],\n",
        "            [np.linalg.inv(I)@utils.skew(leg_pose[i])],\n",
        "            [I3/robot_mass]\n",
        "        ]))\n",
        "    B_mat = np.block([row[1],row[2],row[3],row[4]])\n",
        "    return B_mat"
      ]
    },
    {
      "cell_type": "code",
      "execution_count": 8,
      "metadata": {},
      "outputs": [],
      "source": [
        "# Constants #\n",
        "\n",
        "M = ROBOT_MASS\n",
        "g = 9.81\n",
        "\n",
        "Ts = 50e-3\n",
        "\n",
        "I = np.array([\n",
        "    [1.68399345e-02, 8.39020140e-05, 5.97678823e-04],\n",
        "    [8.39020140e-05, 5.65790460e-02, 2.51339807e-05],\n",
        "    [5.97678823e-04, 2.51339807e-05, 6.47136047e-02]\n",
        "])\n",
        "\n",
        "leg_pose = np.array([\n",
        "    [1.68399345e-02, 8.39020140e-05, 0.],\n",
        "    [8.39020140e-05, 5.65790460e-02, 0.],\n",
        "    [8.39020140e-05, 5.65790460e-02, 0.],\n",
        "    [5.97678823e-04, 2.51339807e-05, 0.]\n",
        "])"
      ]
    },
    {
      "cell_type": "code",
      "execution_count": 11,
      "metadata": {
        "id": "d7oTP1dCa9Fn"
      },
      "outputs": [],
      "source": [
        "euler = np.zeros(3)    \n",
        "Rz = calculate_Rz(euler)\n",
        "Ad =calculate_A_mat(Rz)\n",
        "Ad = sparse.csc_matrix(Ad)\n",
        "\n",
        "Bd =calculate_A_mat(M, I, Rz,leg_pose)\n",
        "Bd = sparse.csc_matrix(Bd)\n",
        "Bd = sparse.csc_matrix([\n",
        "  [0.,      -0.0726,  0.,     0.0726],\n",
        "  [-0.0726,  0.,      0.0726, 0.    ],\n",
        "  [-0.0152,  0.0152, -0.0152, 0.0152],\n",
        "  [-0.,     -0.0006, -0.,     0.0006],\n",
        "  [0.0006,   0.,     -0.0006, 0.0000],\n",
        "  [0.0106,   0.0106,  0.0106, 0.0106],\n",
        "  [0,       -1.4512,  0.,     1.4512],\n",
        "  [-1.4512,  0.,      1.4512, 0.    ],\n",
        "  [-0.3049,  0.3049, -0.3049, 0.3049],\n",
        "  [-0.,     -0.0236,  0.,     0.0236],\n",
        "  [0.0236,   0.,     -0.0236, 0.    ],\n",
        "  [0.2107,   0.2107,  0.2107, 0.2107]])\n",
        "[nx, nu] = Bd.shape"
      ]
    },
    {
      "cell_type": "code",
      "execution_count": 12,
      "metadata": {
        "id": "QsSIirUZbC2-"
      },
      "outputs": [],
      "source": [
        "# Constraints\n",
        "umin = 10*np.ones(12)\n",
        "umax = 666*np.ones(12)\n",
        "xmin = np.array([-np.pi/6,-np.pi/6,-np.inf,-np.inf,-np.inf,-1.,\n",
        "                 -np.inf,-np.inf,-np.inf,-np.inf,-np.inf,-np.inf])\n",
        "xmax = np.array([ np.pi/6, np.pi/6, np.inf, np.inf, np.inf, np.inf,\n",
        "                  np.inf, np.inf, np.inf, np.inf, np.inf, np.inf])"
      ]
    },
    {
      "cell_type": "code",
      "execution_count": 8,
      "metadata": {
        "id": "0fz357lZbEfL"
      },
      "outputs": [],
      "source": [
        "# Objective function\n",
        "Q = sparse.diags([1., 1., 1., 0., 0., 50., 0., 0., 1., 1., 1., 1.])\n",
        "QN = Q\n",
        "R = 1e-6*sparse.eye(12)"
      ]
    },
    {
      "cell_type": "code",
      "execution_count": 9,
      "metadata": {
        "id": "ZKpTghkfbGDt"
      },
      "outputs": [],
      "source": [
        "# Initial and reference states\n",
        "x0 = np.zeros(12)\n",
        "xr = np.array([0.,0.,0.,0.,0.,0.278,0.,0.,0.,0.,0.,0.])"
      ]
    },
    {
      "cell_type": "code",
      "execution_count": 10,
      "metadata": {
        "id": "bidfQvNybH7f"
      },
      "outputs": [],
      "source": [
        "# Prediction horizon\n",
        "N = PLAN_HORIZON\n",
        "\n",
        "# Cast MPC problem to a QP: x = (x(0),x(1),...,x(N),u(0),...,u(N-1))\n",
        "# - quadratic objective\n",
        "P = sparse.block_diag([sparse.kron(sparse.eye(N), Q), QN,\n",
        "                       sparse.kron(sparse.eye(N), R)], format='csc')\n",
        "# - linear objective\n",
        "q = np.hstack([np.kron(np.ones(N), -Q.dot(xr)), -QN.dot(xr),\n",
        "               np.zeros(N*nu)])\n",
        "# - linear dynamics\n",
        "Ax = sparse.kron(sparse.eye(N+1),-sparse.eye(nx)) + sparse.kron(sparse.eye(N+1, k=-1), Ad)\n",
        "Bu = sparse.kron(sparse.vstack([sparse.csc_matrix((1, N)), sparse.eye(N)]), Bd)\n",
        "Aeq = sparse.hstack([Ax, Bu])\n",
        "leq = np.hstack([-x0, np.zeros(N*nx)])\n",
        "ueq = leq\n",
        "# - input and state constraints\n",
        "Aineq = sparse.eye((N+1)*nx + N*nu)\n",
        "lineq = np.hstack([np.kron(np.ones(N+1), xmin), np.kron(np.ones(N), umin)])\n",
        "uineq = np.hstack([np.kron(np.ones(N+1), xmax), np.kron(np.ones(N), umax)])\n",
        "# - OSQP constraints\n",
        "A = sparse.vstack([Aeq, Aineq], format='csc')\n",
        "l = np.hstack([leq, lineq])\n",
        "u = np.hstack([ueq, uineq])"
      ]
    },
    {
      "cell_type": "code",
      "execution_count": 11,
      "metadata": {
        "id": "KHhSOCcFbKtq"
      },
      "outputs": [],
      "source": [
        "# Create an OSQP object\n",
        "prob = osqp.OSQP()"
      ]
    },
    {
      "cell_type": "code",
      "execution_count": 12,
      "metadata": {
        "colab": {
          "base_uri": "https://localhost:8080/"
        },
        "id": "oxEWAZcubL_I",
        "outputId": "68b54725-faff-4f7a-e450-ba29e4d284bf"
      },
      "outputs": [
        {
          "name": "stdout",
          "output_type": "stream",
          "text": [
            "-----------------------------------------------------------------\n",
            "           OSQP v0.6.2  -  Operator Splitting QP Solver\n",
            "              (c) Bartolomeo Stellato,  Goran Banjac\n",
            "        University of Oxford  -  Stanford University 2021\n",
            "-----------------------------------------------------------------\n",
            "problem:  variables n = 172, constraints m = 304\n",
            "          nnz(P) + nnz(A) = 1161\n",
            "settings: linear system solver = qdldl,\n",
            "          eps_abs = 1.0e-03, eps_rel = 1.0e-03,\n",
            "          eps_prim_inf = 1.0e-04, eps_dual_inf = 1.0e-04,\n",
            "          rho = 1.00e-01 (adaptive),\n",
            "          sigma = 1.00e-06, alpha = 1.60, max_iter = 4000\n",
            "          check_termination: on (interval 25),\n",
            "          scaling: on, scaled_termination: off\n",
            "          warm start: on, polish: off, time_limit: off\n",
            "\n"
          ]
        }
      ],
      "source": [
        "# Setup workspace\n",
        "prob.setup(P, q, A, l, u, warm_start=True)"
      ]
    },
    {
      "cell_type": "code",
      "execution_count": 14,
      "metadata": {
        "colab": {
          "base_uri": "https://localhost:8080/"
        },
        "id": "_zsf6diGbe2U",
        "outputId": "8a3c3351-7227-4e38-e6ab-a20a28724c6a"
      },
      "outputs": [
        {
          "name": "stdout",
          "output_type": "stream",
          "text": [
            "iter   objective    pri res    dua res    rho        time\n",
            "   1  -5.4995e+01   1.74e-03   2.41e+00   1.00e-01   7.75e-05s\n",
            "  25  -5.4996e+01   4.88e-07   9.93e-06   1.00e-01   3.92e-04s\n",
            "\n",
            "status:               solved\n",
            "number of iterations: 25\n",
            "optimal objective:    -54.9961\n",
            "run time:             4.48e-04s\n",
            "optimal rho estimate: 4.98e-02\n",
            "\n"
          ]
        }
      ],
      "source": [
        "# Solve\n",
        "res = prob.solve()"
      ]
    },
    {
      "cell_type": "code",
      "execution_count": 13,
      "metadata": {
        "colab": {
          "base_uri": "https://localhost:8080/"
        },
        "id": "HRjKB6YdbN3H",
        "outputId": "c86ee8b5-239e-4005-a2dd-42a19fb7a4ed"
      },
      "outputs": [
        {
          "name": "stdout",
          "output_type": "stream",
          "text": [
            "iter   objective    pri res    dua res    rho        time\n",
            "   1  -3.2965e+01   8.15e-01   6.00e+00   1.00e-01   1.80e-03s\n",
            "  25  -4.0983e+01   6.50e-05   2.15e-04   1.00e-01   3.86e-03s\n",
            "\n",
            "status:               solved\n",
            "number of iterations: 25\n",
            "optimal objective:    -40.9834\n",
            "run time:             4.33e-03s\n",
            "optimal rho estimate: 9.40e-02\n",
            "\n",
            "iter   objective    pri res    dua res    rho        time\n",
            "   1  -4.0983e+01   1.67e+00   9.40e+02   1.00e-01   8.97e-05s\n",
            "  25  -4.6383e+01   4.50e-04   4.45e-03   1.00e-01   3.91e-04s\n",
            "\n",
            "status:               solved\n",
            "number of iterations: 25\n",
            "optimal objective:    -46.3833\n",
            "run time:             4.58e-04s\n",
            "optimal rho estimate: 4.51e-02\n",
            "\n",
            "iter   objective    pri res    dua res    rho        time\n",
            "   1  -4.6383e+01   9.59e-01   5.39e+02   1.00e-01   6.67e-05s\n",
            "  25  -5.0969e+01   2.47e-04   2.56e-03   1.00e-01   4.15e-04s\n",
            "\n",
            "status:               solved\n",
            "number of iterations: 25\n",
            "optimal objective:    -50.9693\n",
            "run time:             6.42e-03s\n",
            "optimal rho estimate: 4.41e-02\n",
            "\n",
            "iter   objective    pri res    dua res    rho        time\n",
            "   1  -5.0970e+01   2.76e-01   4.91e+02   1.00e-01   4.67e-05s\n",
            "  25  -5.3505e+01   5.87e-05   2.33e-03   1.00e-01   2.64e-04s\n",
            "\n",
            "status:               solved\n",
            "number of iterations: 25\n",
            "optimal objective:    -53.5053\n",
            "run time:             1.39e-03s\n",
            "optimal rho estimate: 3.74e-02\n",
            "\n",
            "iter   objective    pri res    dua res    rho        time\n",
            "   1  -5.3506e+01   9.31e-01   5.24e+02   1.00e-01   5.74e-05s\n",
            "  25  -5.4539e+01   2.58e-04   2.48e-03   1.00e-01   3.43e-04s\n",
            "\n",
            "status:               solved\n",
            "number of iterations: 25\n",
            "optimal objective:    -54.5391\n",
            "run time:             3.98e-04s\n",
            "optimal rho estimate: 5.56e-02\n",
            "\n",
            "iter   objective    pri res    dua res    rho        time\n",
            "   1  -5.4539e+01   1.01e+00   5.66e+02   1.00e-01   5.89e-05s\n",
            "  25  -5.4854e+01   2.74e-04   2.68e-03   1.00e-01   3.55e-04s\n",
            "\n",
            "status:               solved\n",
            "number of iterations: 25\n",
            "optimal objective:    -54.8543\n",
            "run time:             1.30e-02s\n",
            "optimal rho estimate: 5.69e-02\n",
            "\n",
            "iter   objective    pri res    dua res    rho        time\n",
            "   1  -5.4854e+01   6.77e-01   3.81e+02   1.00e-01   9.32e-05s\n",
            "  25  -5.4932e+01   1.83e-04   1.80e-03   1.00e-01   3.08e-03s\n",
            "\n",
            "status:               solved\n",
            "number of iterations: 25\n",
            "optimal objective:    -54.9324\n",
            "run time:             3.84e-03s\n",
            "optimal rho estimate: 5.66e-02\n",
            "\n",
            "iter   objective    pri res    dua res    rho        time\n",
            "   1  -5.4932e+01   3.27e-01   1.84e+02   1.00e-01   4.93e-04s\n",
            "  25  -5.4958e+01   8.75e-05   8.71e-04   1.00e-01   1.25e-03s\n",
            "\n",
            "status:               solved\n",
            "number of iterations: 25\n",
            "optimal objective:    -54.9579\n",
            "run time:             2.30e-03s\n",
            "optimal rho estimate: 5.64e-02\n",
            "\n",
            "iter   objective    pri res    dua res    rho        time\n",
            "   1  -5.4958e+01   9.34e-02   5.26e+01   1.00e-01   9.95e-05s\n",
            "  25  -5.4972e+01   2.45e-05   2.49e-04   1.00e-01   1.23e-03s\n",
            "\n",
            "status:               solved\n",
            "number of iterations: 25\n",
            "optimal objective:    -54.9722\n",
            "run time:             2.27e-03s\n",
            "optimal rho estimate: 5.57e-02\n",
            "\n",
            "iter   objective    pri res    dua res    rho        time\n",
            "   1  -5.4972e+01   1.80e-02   2.33e+01   1.00e-01   4.90e-04s\n",
            "  25  -5.4981e+01   5.36e-06   1.10e-04   1.00e-01   1.25e-03s\n",
            "\n",
            "status:               solved\n",
            "number of iterations: 25\n",
            "optimal objective:    -54.9810\n",
            "run time:             2.30e-03s\n",
            "optimal rho estimate: 5.23e-02\n",
            "\n",
            "iter   objective    pri res    dua res    rho        time\n",
            "   1  -5.4981e+01   4.91e-02   2.76e+01   1.00e-01   4.86e-04s\n",
            "  25  -5.4986e+01   1.35e-05   1.31e-04   1.00e-01   1.25e-03s\n",
            "\n",
            "status:               solved\n",
            "number of iterations: 25\n",
            "optimal objective:    -54.9862\n",
            "run time:             2.30e-03s\n",
            "optimal rho estimate: 5.71e-02\n",
            "\n",
            "iter   objective    pri res    dua res    rho        time\n",
            "   1  -5.4986e+01   4.22e-02   2.37e+01   1.00e-01   7.43e-04s\n",
            "  25  -5.4989e+01   1.15e-05   1.13e-04   1.00e-01   1.66e-03s\n",
            "\n",
            "status:               solved\n",
            "number of iterations: 25\n",
            "optimal objective:    -54.9895\n",
            "run time:             2.68e-03s\n",
            "optimal rho estimate: 5.67e-02\n",
            "\n",
            "iter   objective    pri res    dua res    rho        time\n",
            "   1  -5.4989e+01   2.50e-02   1.40e+01   1.00e-01   4.98e-04s\n",
            "  25  -5.4992e+01   6.72e-06   6.65e-05   1.00e-01   1.25e-03s\n",
            "\n",
            "status:               solved\n",
            "number of iterations: 25\n",
            "optimal objective:    -54.9918\n",
            "run time:             2.30e-03s\n",
            "optimal rho estimate: 5.65e-02\n",
            "\n",
            "iter   objective    pri res    dua res    rho        time\n",
            "   1  -5.4992e+01   1.03e-02   5.82e+00   1.00e-01   1.05e-04s\n",
            "  25  -5.4994e+01   2.75e-06   2.76e-05   1.00e-01   1.22e-03s\n",
            "\n",
            "status:               solved\n",
            "number of iterations: 25\n",
            "optimal objective:    -54.9936\n",
            "run time:             2.27e-03s\n",
            "optimal rho estimate: 5.62e-02\n",
            "\n",
            "iter   objective    pri res    dua res    rho        time\n",
            "   1  -5.4994e+01   1.89e-03   2.72e+00   1.00e-01   5.09e-04s\n",
            "  25  -5.4995e+01   4.46e-07   1.12e-05   1.00e-01   1.25e-03s\n",
            "\n",
            "status:               solved\n",
            "number of iterations: 25\n",
            "optimal objective:    -54.9950\n",
            "run time:             2.32e-03s\n",
            "optimal rho estimate: 4.98e-02\n",
            "\n"
          ]
        }
      ],
      "source": [
        "# Simulate in closed loop\n",
        "nsim = 15\n",
        "for i in range(nsim):\n",
        "    # Solve\n",
        "    res = prob.solve()\n",
        "\n",
        "    # Check solver status\n",
        "    if res.info.status != 'solved':\n",
        "        raise ValueError('OSQP did not solve the problem!')\n",
        "\n",
        "    # Apply first control input to the plant\n",
        "    ctrl = res.x[-N*nu:-(N-1)*nu]\n",
        "    x0 = Ad.dot(x0) + Bd.dot(ctrl)\n",
        "\n",
        "    # Update initial state\n",
        "    l[:nx] = -x0\n",
        "    u[:nx] = -x0\n",
        "    prob.update(l=l, u=u)"
      ]
    }
  ],
  "metadata": {
    "colab": {
      "provenance": []
    },
    "kernelspec": {
      "display_name": "Python 3.9.12 ('base')",
      "language": "python",
      "name": "python3"
    },
    "language_info": {
      "codemirror_mode": {
        "name": "ipython",
        "version": 3
      },
      "file_extension": ".py",
      "mimetype": "text/x-python",
      "name": "python",
      "nbconvert_exporter": "python",
      "pygments_lexer": "ipython3",
      "version": "3.9.12"
    },
    "vscode": {
      "interpreter": {
        "hash": "1e2d229a77f0c539f950a7f44666874e7efb87ed4d72554c8b41c28fa4ab8060"
      }
    }
  },
  "nbformat": 4,
  "nbformat_minor": 0
}
